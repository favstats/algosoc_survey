{
  "cells": [
    {
      "cell_type": "raw",
      "metadata": {},
      "source": [
        "---\n",
        "description-meta: \"\"\n",
        "execute:\n",
        "  echo: false\n",
        "---"
      ],
      "id": "1b2109f6"
    },
    {
      "cell_type": "markdown",
      "metadata": {},
      "source": [
        "> Welcome to the AlgoSoc AI Monitor, providing insights into public perceptions and experiences with artificial intelligence (AI) in society! We asked 3,921 respondents in the Netherlands what they think. \n",
        "\n",
        "This dashboard aggregates data collected via the <a href=\"https://algosoc.org/\" target=\"_blank\">AlgoSoc Consortium</a> to show how citizens think and feel about AI in society.\n",
        "\n",
        "If you want to know more about AlgoSoc and our work on AI, visit us on <a href=\"https://algosoc.org/\" target=\"_blank\">algosoc.org</a>!\n",
        "\n",
        "The dashboard is divided into three main pages. Click on any of the buttons below for quick navigation\n",
        "\n",
        "\n",
        "\n",
        "```{css}\n",
        "<style>\n",
        ".button-container {\n",
        "  text-align: center;\n",
        "}\n",
        "\n",
        ".buttontop {\n",
        "  display: inline-block;\n",
        "  background-color: #4CAF50;\n",
        "  border: none;\n",
        "  color: white;\n",
        "  padding: 15px 32px;\n",
        "  text-align: center;\n",
        "  text-decoration: none;\n",
        "  font-size: 16px;\n",
        "  margin: 10px;\n",
        "  cursor: pointer;\n",
        "  border-radius: 5px;\n",
        "  box-shadow: 0 4px 6px rgba(0, 0, 0, 0.1);\n",
        "  transition: all 0.3s ease;\n",
        "}\n",
        "\n",
        ".buttontop:hover {\n",
        "  background-color: #45a049;\n",
        "  box-shadow: 0 6px 8px rgba(0, 0, 0, 0.15);\n",
        "  transform: translateY(-2px);\n",
        "}\n",
        "\n",
        "\n",
        "</style>\n",
        "```"
      ],
      "id": "3890219a"
    }
  ],
  "metadata": {
    "kernelspec": {
      "display_name": "Python 3",
      "language": "python",
      "name": "python3"
    }
  },
  "nbformat": 4,
  "nbformat_minor": 5
}